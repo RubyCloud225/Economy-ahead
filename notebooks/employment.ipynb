{
 "cells": [
  {
   "cell_type": "code",
   "execution_count": 1,
   "metadata": {},
   "outputs": [
    {
     "name": "stderr",
     "output_type": "stream",
     "text": [
      "/Users/catherinepemblington/Documents/GitHub/Economy-ahead/venv/lib/python3.9/site-packages/urllib3/__init__.py:35: NotOpenSSLWarning: urllib3 v2 only supports OpenSSL 1.1.1+, currently the 'ssl' module is compiled with 'LibreSSL 2.8.3'. See: https://github.com/urllib3/urllib3/issues/3020\n",
      "  warnings.warn(\n"
     ]
    }
   ],
   "source": [
    "from Data.DataFetcher import DataFetcher"
   ]
  },
  {
   "cell_type": "code",
   "execution_count": 2,
   "metadata": {},
   "outputs": [],
   "source": [
    "employment_collector = DataFetcher(['USA', 'GBR', 'FRA', 'URE'], 2010, 2023, 'SL.EMP.TOTL.SP.NE.ZS')"
   ]
  },
  {
   "cell_type": "code",
   "execution_count": 3,
   "metadata": {},
   "outputs": [
    {
     "name": "stdout",
     "output_type": "stream",
     "text": [
      "           2010    2011    2012    2013    2014    2015    2016    2017  \\\n",
      "economy                                                                   \n",
      "FRA      51.031  50.859  50.727  50.838  50.336  50.256  50.308  50.403   \n",
      "GBR      57.182  57.025  57.139  57.518  58.487  59.096  59.642  59.873   \n",
      "USA      58.472  58.372  58.561  58.584  59.007  59.343  59.729  60.114   \n",
      "\n",
      "           2018    2019    2020    2021    2022    2023  \n",
      "economy                                                  \n",
      "FRA      50.608  50.621  50.167  51.487  52.071  52.186  \n",
      "GBR      60.285  60.639  59.992  59.171  59.873  59.723  \n",
      "USA      60.422  60.784  56.772  58.361  59.965  60.326  \n"
     ]
    }
   ],
   "source": [
    "employment_collector.fetch_data()"
   ]
  },
  {
   "cell_type": "code",
   "execution_count": 4,
   "metadata": {},
   "outputs": [],
   "source": [
    "employment_collector.process_data()"
   ]
  },
  {
   "cell_type": "code",
   "execution_count": 5,
   "metadata": {},
   "outputs": [
    {
     "name": "stdout",
     "output_type": "stream",
     "text": [
      "  economy    2010    2011    2012    2013    2014    2015    2016    2017  \\\n",
      "0     FRA  51.031  50.859  50.727  50.838  50.336  50.256  50.308  50.403   \n",
      "1     GBR  57.182  57.025  57.139  57.518  58.487  59.096  59.642  59.873   \n",
      "2     USA  58.472  58.372  58.561  58.584  59.007  59.343  59.729  60.114   \n",
      "\n",
      "     2018    2019    2020    2021    2022    2023  \n",
      "0  50.608  50.621  50.167  51.487  52.071  52.186  \n",
      "1  60.285  60.639  59.992  59.171  59.873  59.723  \n",
      "2  60.422  60.784  56.772  58.361  59.965  60.326  \n"
     ]
    }
   ],
   "source": [
    "employment_collector.display_data()"
   ]
  },
  {
   "cell_type": "code",
   "execution_count": 6,
   "metadata": {},
   "outputs": [],
   "source": [
    "employment_collector.save_to_csv('csv/employment_total.csv')"
   ]
  }
 ],
 "metadata": {
  "kernelspec": {
   "display_name": "venv",
   "language": "python",
   "name": "python3"
  },
  "language_info": {
   "codemirror_mode": {
    "name": "ipython",
    "version": 3
   },
   "file_extension": ".py",
   "mimetype": "text/x-python",
   "name": "python",
   "nbconvert_exporter": "python",
   "pygments_lexer": "ipython3",
   "version": "3.9.6"
  }
 },
 "nbformat": 4,
 "nbformat_minor": 2
}
