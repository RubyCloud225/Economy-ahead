{
 "cells": [
  {
   "cell_type": "code",
   "execution_count": 8,
   "metadata": {},
   "outputs": [],
   "source": [
    "from Data.DataFetcher import DataFetcher"
   ]
  },
  {
   "cell_type": "code",
   "execution_count": 9,
   "metadata": {},
   "outputs": [],
   "source": [
    "employmentFemale = DataFetcher(['USA', 'GBR', 'FRA', 'URE'], 2010, 2023, 'SL.EMP.TOTL.SP.FE.NE.ZS')"
   ]
  },
  {
   "cell_type": "code",
   "execution_count": 10,
   "metadata": {},
   "outputs": [
    {
     "name": "stdout",
     "output_type": "stream",
     "text": [
      "           2010    2011    2012    2013  ...    2020    2021    2022    2023\n",
      "economy                                  ...                                \n",
      "FRA      46.412  46.283  46.367  46.664  ...  46.603  48.185  48.771  49.013\n",
      "GBR      51.976  51.863  51.971  52.581  ...  56.167  55.663  56.054  55.967\n",
      "USA      53.569  53.186  53.131  53.158  ...  51.511  53.166  54.736  55.352\n",
      "\n",
      "[3 rows x 14 columns]\n"
     ]
    }
   ],
   "source": [
    "employmentFemale.fetch_data()"
   ]
  },
  {
   "cell_type": "code",
   "execution_count": 11,
   "metadata": {},
   "outputs": [],
   "source": [
    "employmentFemale.process_data()"
   ]
  },
  {
   "cell_type": "code",
   "execution_count": 12,
   "metadata": {},
   "outputs": [
    {
     "name": "stdout",
     "output_type": "stream",
     "text": [
      "  economy    2010    2011    2012  ...    2020    2021    2022    2023\n",
      "0     FRA  46.412  46.283  46.367  ...  46.603  48.185  48.771  49.013\n",
      "1     GBR  51.976  51.863  51.971  ...  56.167  55.663  56.054  55.967\n",
      "2     USA  53.569  53.186  53.131  ...  51.511  53.166  54.736  55.352\n",
      "\n",
      "[3 rows x 15 columns]\n"
     ]
    }
   ],
   "source": [
    "employmentFemale.display_data()"
   ]
  },
  {
   "cell_type": "code",
   "execution_count": 15,
   "metadata": {},
   "outputs": [],
   "source": [
    "employmentFemale.save_to_csv('csv/employment_female.csv')"
   ]
  }
 ],
 "metadata": {
  "kernelspec": {
   "display_name": "venv",
   "language": "python",
   "name": "python3"
  },
  "language_info": {
   "codemirror_mode": {
    "name": "ipython",
    "version": 3
   },
   "file_extension": ".py",
   "mimetype": "text/x-python",
   "name": "python",
   "nbconvert_exporter": "python",
   "pygments_lexer": "ipython3",
   "version": "3.9.6"
  }
 },
 "nbformat": 4,
 "nbformat_minor": 2
}
