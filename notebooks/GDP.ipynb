{
 "cells": [
  {
   "cell_type": "code",
   "execution_count": 2,
   "metadata": {},
   "outputs": [
    {
     "name": "stderr",
     "output_type": "stream",
     "text": [
      "/Users/catherinepemblington/Documents/GitHub/Economy-ahead/venv/lib/python3.9/site-packages/urllib3/__init__.py:35: NotOpenSSLWarning: urllib3 v2 only supports OpenSSL 1.1.1+, currently the 'ssl' module is compiled with 'LibreSSL 2.8.3'. See: https://github.com/urllib3/urllib3/issues/3020\n",
      "  warnings.warn(\n"
     ]
    }
   ],
   "source": [
    "from Data.DataFetcher import DataFetcher"
   ]
  },
  {
   "cell_type": "code",
   "execution_count": 3,
   "metadata": {},
   "outputs": [],
   "source": [
    "gdp_collector = DataFetcher(['USA', 'GBR', 'FRA', 'URE'], 2010, 2023, 'NY.GDP.MKTP.CD')"
   ]
  },
  {
   "cell_type": "code",
   "execution_count": 4,
   "metadata": {},
   "outputs": [
    {
     "name": "stdout",
     "output_type": "stream",
     "text": [
      "                 2010          2011          2012          2013          2014  \\\n",
      "economy                                                                         \n",
      "FRA      2.646230e+12  2.870409e+12  2.683007e+12  2.816078e+12  2.861236e+12   \n",
      "GBR      2.485483e+12  2.663806e+12  2.707090e+12  2.784854e+12  3.064708e+12   \n",
      "USA      1.504897e+13  1.559973e+13  1.625397e+13  1.688068e+13  1.760814e+13   \n",
      "\n",
      "                 2015          2016          2017          2018          2019  \\\n",
      "economy                                                                         \n",
      "FRA      2.442483e+12  2.470408e+12  2.588868e+12  2.781576e+12  2.722794e+12   \n",
      "GBR      2.927911e+12  2.689107e+12  2.680148e+12  2.871340e+12  2.851407e+12   \n",
      "USA      1.829502e+13  1.880491e+13  1.961210e+13  2.065652e+13  2.153998e+13   \n",
      "\n",
      "                 2020          2021          2022          2023  \n",
      "economy                                                          \n",
      "FRA      2.647926e+12  2.966434e+12  2.796302e+12  3.051832e+12  \n",
      "GBR      2.696778e+12  3.143323e+12  3.114042e+12  3.380855e+12  \n",
      "USA      2.135410e+13  2.368117e+13  2.600689e+13  2.772071e+13  \n"
     ]
    }
   ],
   "source": [
    "gdp_collector.fetch_data()"
   ]
  },
  {
   "cell_type": "markdown",
   "metadata": {},
   "source": []
  },
  {
   "cell_type": "code",
   "execution_count": 5,
   "metadata": {},
   "outputs": [],
   "source": [
    "gdp_collector.process_data()"
   ]
  },
  {
   "cell_type": "code",
   "execution_count": 6,
   "metadata": {},
   "outputs": [
    {
     "name": "stdout",
     "output_type": "stream",
     "text": [
      "  economy          2010          2011          2012          2013  \\\n",
      "0     FRA  2.646230e+12  2.870409e+12  2.683007e+12  2.816078e+12   \n",
      "1     GBR  2.485483e+12  2.663806e+12  2.707090e+12  2.784854e+12   \n",
      "2     USA  1.504897e+13  1.559973e+13  1.625397e+13  1.688068e+13   \n",
      "\n",
      "           2014          2015          2016          2017          2018  \\\n",
      "0  2.861236e+12  2.442483e+12  2.470408e+12  2.588868e+12  2.781576e+12   \n",
      "1  3.064708e+12  2.927911e+12  2.689107e+12  2.680148e+12  2.871340e+12   \n",
      "2  1.760814e+13  1.829502e+13  1.880491e+13  1.961210e+13  2.065652e+13   \n",
      "\n",
      "           2019          2020          2021          2022          2023  \n",
      "0  2.722794e+12  2.647926e+12  2.966434e+12  2.796302e+12  3.051832e+12  \n",
      "1  2.851407e+12  2.696778e+12  3.143323e+12  3.114042e+12  3.380855e+12  \n",
      "2  2.153998e+13  2.135410e+13  2.368117e+13  2.600689e+13  2.772071e+13  \n"
     ]
    }
   ],
   "source": [
    "gdp_collector.display_data()"
   ]
  },
  {
   "cell_type": "code",
   "execution_count": 10,
   "metadata": {},
   "outputs": [],
   "source": [
    "gdp_collector.save_to_csv('csv/gdp_data.csv')"
   ]
  }
 ],
 "metadata": {
  "kernelspec": {
   "display_name": "venv",
   "language": "python",
   "name": "python3"
  },
  "language_info": {
   "codemirror_mode": {
    "name": "ipython",
    "version": 3
   },
   "file_extension": ".py",
   "mimetype": "text/x-python",
   "name": "python",
   "nbconvert_exporter": "python",
   "pygments_lexer": "ipython3",
   "version": "3.9.6"
  }
 },
 "nbformat": 4,
 "nbformat_minor": 2
}
