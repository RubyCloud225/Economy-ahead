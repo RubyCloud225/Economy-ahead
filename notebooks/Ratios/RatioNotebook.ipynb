{
 "cells": [
  {
   "cell_type": "code",
   "execution_count": 1,
   "metadata": {},
   "outputs": [
    {
     "name": "stderr",
     "output_type": "stream",
     "text": [
      "/Users/catherinepemblington/Documents/GitHub/Economy-ahead/venv/lib/python3.9/site-packages/urllib3/__init__.py:35: NotOpenSSLWarning: urllib3 v2 only supports OpenSSL 1.1.1+, currently the 'ssl' module is compiled with 'LibreSSL 2.8.3'. See: https://github.com/urllib3/urllib3/issues/3020\n",
      "  warnings.warn(\n"
     ]
    }
   ],
   "source": [
    "from BalanceRatio import BalanceRatio"
   ]
  },
  {
   "cell_type": "code",
   "execution_count": 2,
   "metadata": {},
   "outputs": [],
   "source": [
    "economies = ['USA', 'GBR', 'FRA', 'URE']\n",
    "start_year = 2010\n",
    "end_year = 2023\n",
    "indicators = ['GC.TAX.TOTL.CN', 'GC.XPN.TOTL.CN']"
   ]
  },
  {
   "cell_type": "code",
   "execution_count": 3,
   "metadata": {},
   "outputs": [],
   "source": [
    "analyse = BalanceRatio(economies, start_year, end_year, indicators)"
   ]
  },
  {
   "cell_type": "code",
   "execution_count": 5,
   "metadata": {},
   "outputs": [
    {
     "name": "stdout",
     "output_type": "stream",
     "text": [
      "                                2010          2011          2012  \\\n",
      "economy series                                                     \n",
      "FRA     GC.TAX.TOTL.CN  4.380190e+11  4.490630e+11  4.706230e+11   \n",
      "        GC.XPN.TOTL.CN  9.841571e+11  9.794902e+11  1.004128e+12   \n",
      "GBR     GC.TAX.TOTL.CN  4.065360e+11  4.295290e+11  4.301950e+11   \n",
      "        GC.XPN.TOTL.CN  7.099800e+11  7.099320e+11  7.425890e+11   \n",
      "USA     GC.TAX.TOTL.CN  1.288677e+12  1.488047e+12  1.587024e+12   \n",
      "        GC.XPN.TOTL.CN  3.920948e+12  3.953861e+12  3.886634e+12   \n",
      "\n",
      "                                2013          2014          2015  \\\n",
      "economy series                                                     \n",
      "FRA     GC.TAX.TOTL.CN  4.914190e+11  4.979160e+11  5.099860e+11   \n",
      "        GC.XPN.TOTL.CN  1.018778e+12  1.038109e+12  1.055071e+12   \n",
      "GBR     GC.TAX.TOTL.CN  4.477690e+11  4.634030e+11  4.803900e+11   \n",
      "        GC.XPN.TOTL.CN  7.161850e+11  7.340160e+11  7.367600e+11   \n",
      "USA     GC.TAX.TOTL.CN  1.765758e+12  1.919243e+12  2.045900e+12   \n",
      "        GC.XPN.TOTL.CN  3.862547e+12  3.981213e+12  4.093243e+12   \n",
      "\n",
      "                                2016          2017          2018  \\\n",
      "economy series                                                     \n",
      "FRA     GC.TAX.TOTL.CN  5.152980e+11  5.428230e+11  5.712310e+11   \n",
      "        GC.XPN.TOTL.CN  1.069744e+12  1.095968e+12  1.105394e+12   \n",
      "GBR     GC.TAX.TOTL.CN  5.069740e+11  5.330500e+11  5.498430e+11   \n",
      "        GC.XPN.TOTL.CN  7.419980e+11  7.726880e+11  8.077530e+11   \n",
      "USA     GC.TAX.TOTL.CN  2.041182e+12  2.256154e+12  2.051097e+12   \n",
      "        GC.XPN.TOTL.CN  4.215295e+12  4.342257e+12  4.579442e+12   \n",
      "\n",
      "                                2019          2020          2021  \\\n",
      "economy series                                                     \n",
      "FRA     GC.TAX.TOTL.CN  5.975780e+11  5.715620e+11  5.995900e+11   \n",
      "        GC.XPN.TOTL.CN  1.128685e+12  1.203422e+12  1.248764e+12   \n",
      "GBR     GC.TAX.TOTL.CN  5.609660e+11  5.213580e+11  6.036870e+11   \n",
      "        GC.XPN.TOTL.CN  8.202100e+11  1.009936e+12  9.975150e+11   \n",
      "USA     GC.TAX.TOTL.CN  2.129405e+12  2.177330e+12  2.666222e+12   \n",
      "        GC.XPN.TOTL.CN  4.850048e+12  6.758346e+12  7.284164e+12   \n",
      "\n",
      "                                2022          2023  \n",
      "economy series                                      \n",
      "FRA     GC.TAX.TOTL.CN  6.497480e+11           NaN  \n",
      "        GC.XPN.TOTL.CN  1.293210e+12           NaN  \n",
      "GBR     GC.TAX.TOTL.CN  6.865100e+11  7.430810e+11  \n",
      "        GC.XPN.TOTL.CN  1.049184e+12  1.134696e+12  \n",
      "USA     GC.TAX.TOTL.CN  3.135088e+12  2.834112e+12  \n",
      "        GC.XPN.TOTL.CN  6.306213e+12  6.638996e+12  \n"
     ]
    }
   ],
   "source": [
    "analyse.fetch_data()"
   ]
  },
  {
   "cell_type": "code",
   "execution_count": 7,
   "metadata": {},
   "outputs": [],
   "source": [
    "analyse.data_fetcher.process_data()"
   ]
  },
  {
   "cell_type": "code",
   "execution_count": 8,
   "metadata": {},
   "outputs": [
    {
     "data": {
      "text/plain": [
       "ValueError('data not loaded')"
      ]
     },
     "execution_count": 8,
     "metadata": {},
     "output_type": "execute_result"
    }
   ],
   "source": [
    "analyse.calculate_balance_ratio()"
   ]
  }
 ],
 "metadata": {
  "kernelspec": {
   "display_name": "venv",
   "language": "python",
   "name": "python3"
  },
  "language_info": {
   "codemirror_mode": {
    "name": "ipython",
    "version": 3
   },
   "file_extension": ".py",
   "mimetype": "text/x-python",
   "name": "python",
   "nbconvert_exporter": "python",
   "pygments_lexer": "ipython3",
   "version": "3.9.6"
  }
 },
 "nbformat": 4,
 "nbformat_minor": 2
}
