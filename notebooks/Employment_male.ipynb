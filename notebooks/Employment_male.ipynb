{
 "cells": [
  {
   "cell_type": "code",
   "execution_count": 1,
   "metadata": {},
   "outputs": [
    {
     "name": "stderr",
     "output_type": "stream",
     "text": [
      "/Users/catherinepemblington/Documents/GitHub/Economy-ahead/venv/lib/python3.9/site-packages/urllib3/__init__.py:35: NotOpenSSLWarning: urllib3 v2 only supports OpenSSL 1.1.1+, currently the 'ssl' module is compiled with 'LibreSSL 2.8.3'. See: https://github.com/urllib3/urllib3/issues/3020\n",
      "  warnings.warn(\n"
     ]
    }
   ],
   "source": [
    "from Data.DataFetcher import DataFetcher"
   ]
  },
  {
   "cell_type": "code",
   "execution_count": 2,
   "metadata": {},
   "outputs": [],
   "source": [
    "maleEmployment = DataFetcher(['USA', 'GBR', 'FRA', 'URE'], 2010, 2023, 'SL.EMP.TOTL.SP.MA.NE.ZS')"
   ]
  },
  {
   "cell_type": "code",
   "execution_count": 3,
   "metadata": {},
   "outputs": [
    {
     "name": "stdout",
     "output_type": "stream",
     "text": [
      "           2010    2011    2012    2013    2014    2015    2016    2017  \\\n",
      "economy                                                                   \n",
      "FRA      56.074  55.852  55.482  55.392  54.567  54.322  54.427  54.675   \n",
      "GBR      62.687  62.471  62.584  62.716  63.777  64.439  64.817  64.857   \n",
      "USA      63.694  63.869  64.388  64.403  64.880  65.343  65.771  66.033   \n",
      "\n",
      "           2018    2019    2020    2021    2022    2023  \n",
      "economy                                                  \n",
      "FRA      54.806  54.613  54.071  55.098  55.681  55.651  \n",
      "GBR      65.262  65.044  63.965  62.814  63.843  63.663  \n",
      "USA      66.330  66.580  62.388  63.903  65.467  65.529  \n"
     ]
    }
   ],
   "source": [
    "maleEmployment.fetch_data()"
   ]
  },
  {
   "cell_type": "code",
   "execution_count": 4,
   "metadata": {},
   "outputs": [],
   "source": [
    "maleEmployment.process_data()"
   ]
  },
  {
   "cell_type": "code",
   "execution_count": 5,
   "metadata": {},
   "outputs": [
    {
     "name": "stdout",
     "output_type": "stream",
     "text": [
      "  economy    2010    2011    2012    2013    2014    2015    2016    2017  \\\n",
      "0     FRA  56.074  55.852  55.482  55.392  54.567  54.322  54.427  54.675   \n",
      "1     GBR  62.687  62.471  62.584  62.716  63.777  64.439  64.817  64.857   \n",
      "2     USA  63.694  63.869  64.388  64.403  64.880  65.343  65.771  66.033   \n",
      "\n",
      "     2018    2019    2020    2021    2022    2023  \n",
      "0  54.806  54.613  54.071  55.098  55.681  55.651  \n",
      "1  65.262  65.044  63.965  62.814  63.843  63.663  \n",
      "2  66.330  66.580  62.388  63.903  65.467  65.529  \n"
     ]
    }
   ],
   "source": [
    "maleEmployment.display_data()"
   ]
  },
  {
   "cell_type": "code",
   "execution_count": 6,
   "metadata": {},
   "outputs": [],
   "source": [
    "maleEmployment.save_to_csv('csv/maleEmployment.csv')"
   ]
  }
 ],
 "metadata": {
  "kernelspec": {
   "display_name": "venv",
   "language": "python",
   "name": "python3"
  },
  "language_info": {
   "codemirror_mode": {
    "name": "ipython",
    "version": 3
   },
   "file_extension": ".py",
   "mimetype": "text/x-python",
   "name": "python",
   "nbconvert_exporter": "python",
   "pygments_lexer": "ipython3",
   "version": "3.9.6"
  }
 },
 "nbformat": 4,
 "nbformat_minor": 2
}
