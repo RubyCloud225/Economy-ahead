{
 "cells": [
  {
   "cell_type": "code",
   "execution_count": 2,
   "metadata": {},
   "outputs": [
    {
     "name": "stderr",
     "output_type": "stream",
     "text": [
      "/Users/catherinepemblington/Documents/GitHub/Economy-ahead/venv/lib/python3.9/site-packages/urllib3/__init__.py:35: NotOpenSSLWarning: urllib3 v2 only supports OpenSSL 1.1.1+, currently the 'ssl' module is compiled with 'LibreSSL 2.8.3'. See: https://github.com/urllib3/urllib3/issues/3020\n",
      "  warnings.warn(\n"
     ]
    }
   ],
   "source": [
    "from Data.DataFetcher import DataFetcher"
   ]
  },
  {
   "cell_type": "code",
   "execution_count": 3,
   "metadata": {},
   "outputs": [],
   "source": [
    "gross_fixed_capital_formation = DataFetcher(['USA', 'GBR', 'FRA', 'URE'], 2010, 2023, 'NE.GDI.TOTL.CD')"
   ]
  },
  {
   "cell_type": "code",
   "execution_count": 4,
   "metadata": {},
   "outputs": [
    {
     "name": "stdout",
     "output_type": "stream",
     "text": [
      "                 2010          2011          2012          2013          2014  \\\n",
      "economy                                                                         \n",
      "FRA      5.646491e+11  6.458317e+11  5.856888e+11  6.060323e+11  6.247930e+11   \n",
      "GBR      4.020570e+11  4.243321e+11  4.347639e+11  4.611774e+11  5.429964e+11   \n",
      "USA      2.809976e+12  2.969181e+12  3.242785e+12  3.440159e+12  3.680311e+12   \n",
      "\n",
      "                 2015          2016          2017          2018          2019  \\\n",
      "economy                                                                         \n",
      "FRA      5.304229e+11  5.335552e+11  5.742472e+11  6.289582e+11  6.269252e+11   \n",
      "GBR      5.231997e+11  4.822838e+11  4.953767e+11  5.220512e+11  5.240508e+11   \n",
      "USA      3.917913e+12  3.927962e+12  4.149091e+12  4.455419e+12  4.667673e+12   \n",
      "\n",
      "                 2020          2021          2022          2023  \n",
      "economy                                                          \n",
      "FRA      6.038441e+11  6.955541e+11  6.764010e+11  7.066017e+11  \n",
      "GBR      4.741246e+11  5.666440e+11  5.586011e+11  5.804033e+11  \n",
      "USA      4.573797e+12  5.051971e+12  5.708454e+12  5.971327e+12  \n"
     ]
    }
   ],
   "source": [
    "gross_fixed_capital_formation.fetch_data()"
   ]
  },
  {
   "cell_type": "code",
   "execution_count": 5,
   "metadata": {},
   "outputs": [],
   "source": [
    "gross_fixed_capital_formation.process_data()"
   ]
  },
  {
   "cell_type": "code",
   "execution_count": 6,
   "metadata": {},
   "outputs": [],
   "source": [
    "gross_fixed_capital_formation.save_to_csv('csv/gross_fixed_capital_formation.csv')"
   ]
  },
  {
   "cell_type": "code",
   "execution_count": 7,
   "metadata": {},
   "outputs": [],
   "source": [
    "net_capital_formation = DataFetcher(['USA', 'GBR', 'FRA', 'URE'], 2010, 2023, 'NE.GDI.TOTL.ZS')"
   ]
  },
  {
   "cell_type": "code",
   "execution_count": 8,
   "metadata": {},
   "outputs": [
    {
     "name": "stdout",
     "output_type": "stream",
     "text": [
      "              2010       2011       2012       2013       2014       2015  \\\n",
      "economy                                                                     \n",
      "FRA      21.337870  22.499645  21.829565  21.520442  21.836471  21.716542   \n",
      "GBR      16.176216  15.929544  16.060197  16.560203  17.717719  17.869385   \n",
      "USA      18.672214  19.033539  19.950726  20.379264  20.901194  21.415190   \n",
      "\n",
      "              2016       2017       2018       2019       2020       2021  \\\n",
      "economy                                                                     \n",
      "FRA      21.597861  22.181399  22.611574  23.025073  22.804418  23.447485   \n",
      "GBR      17.934722  18.483185  18.181446  18.378671  17.581149  18.026910   \n",
      "USA      20.887956  21.155769  21.569073  21.669809  21.418819  21.333282   \n",
      "\n",
      "              2022       2023  \n",
      "economy                        \n",
      "FRA      24.189125  23.153364  \n",
      "GBR      17.938132  17.167354  \n",
      "USA      21.949773  21.541033  \n"
     ]
    }
   ],
   "source": [
    "net_capital_formation.fetch_data()"
   ]
  },
  {
   "cell_type": "code",
   "execution_count": 9,
   "metadata": {},
   "outputs": [],
   "source": [
    "net_capital_formation.process_data()"
   ]
  },
  {
   "cell_type": "code",
   "execution_count": 10,
   "metadata": {},
   "outputs": [],
   "source": [
    "net_capital_formation.save_to_csv('csv/netcapitalformation.csv')"
   ]
  }
 ],
 "metadata": {
  "kernelspec": {
   "display_name": "venv",
   "language": "python",
   "name": "python3"
  },
  "language_info": {
   "codemirror_mode": {
    "name": "ipython",
    "version": 3
   },
   "file_extension": ".py",
   "mimetype": "text/x-python",
   "name": "python",
   "nbconvert_exporter": "python",
   "pygments_lexer": "ipython3",
   "version": "3.9.6"
  }
 },
 "nbformat": 4,
 "nbformat_minor": 2
}
